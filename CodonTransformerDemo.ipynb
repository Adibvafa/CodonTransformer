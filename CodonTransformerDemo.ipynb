{
 "cells": [
  {
   "cell_type": "code",
   "execution_count": 1,
   "metadata": {},
   "outputs": [],
   "source": [
    "import torch\n",
    "import pandas as pd\n",
    "\n",
    "import warnings\n",
    "from tqdm import tqdm\n",
    "\n",
    "warnings.filterwarnings(\"ignore\")\n",
    "\n",
    "from transformers import AutoTokenizer, BigBirdForMaskedLM\n",
    "\n",
    "from CodonTransformer.CodonPrediction import predict_dna_sequence\n",
    "from CodonTransformer.CodonJupyter import (\n",
    "    UserContainer,\n",
    "    display_protein_input,\n",
    "    display_organism_dropdown,\n",
    "    format_model_output,\n",
    ")\n",
    "\n",
    "DEVICE = torch.device(\"cuda\" if torch.cuda.is_available() else \"cpu\")"
   ]
  },
  {
   "cell_type": "code",
   "execution_count": 2,
   "metadata": {},
   "outputs": [],
   "source": [
    "# Load model and tokenizer\n",
    "tokenizer = AutoTokenizer.from_pretrained(\"adibvafa/CodonTransformer\")\n",
    "model = BigBirdForMaskedLM.from_pretrained(\"adibvafa/CodonTransformer\").to(DEVICE)"
   ]
  },
  {
   "cell_type": "markdown",
   "metadata": {},
   "source": [
    "**Optimizing a Single Sequence**\n",
    "-------------------------------------\n",
    "1. Run the next code cell and input only your protein sequence and organism\n",
    "\n",
    "2. Run the code cell after it to optimize the sequence and display it.\n",
    "\n",
    "Protein sequences should end with \"*\" or \"_\" or an amino acid."
   ]
  },
  {
   "cell_type": "code",
   "execution_count": 3,
   "metadata": {},
   "outputs": [
    {
     "data": {
      "application/vnd.jupyter.widget-view+json": {
       "model_id": "e5867c02ed854a2eb07a20cd25d3ecd7",
       "version_major": 2,
       "version_minor": 0
      },
      "text/plain": [
       "VBox(children=(HTML(value='<b style=\"font-size:20px;\">Enter Protein Sequence:</b><div style=\"height:18px;\"></d…"
      ]
     },
     "metadata": {},
     "output_type": "display_data"
    },
    {
     "data": {
      "application/vnd.jupyter.widget-view+json": {
       "model_id": "10342006b7274512be6322777316e93c",
       "version_major": 2,
       "version_minor": 0
      },
      "text/plain": [
       "HTML(value='\\n        <style>\\n            .widget-textarea > textarea {\\n                font-size: 12px;\\n  …"
      ]
     },
     "metadata": {},
     "output_type": "display_data"
    },
    {
     "data": {
      "application/vnd.jupyter.widget-view+json": {
       "model_id": "397d496d9b494c80916a3ba933bec09b",
       "version_major": 2,
       "version_minor": 0
      },
      "text/plain": [
       "VBox(children=(HTML(value='<b style=\"font-size:20px;\">Select Organism:</b><div style=\"height:10px;\"></div>'), …"
      ]
     },
     "metadata": {},
     "output_type": "display_data"
    },
    {
     "data": {
      "text/html": [
       "\n",
       "    <style>\n",
       "        .widget-dropdown > select {\n",
       "            font-size: 16px;\n",
       "            font-weight: normal;\n",
       "            background-color: #f0f0f0;\n",
       "            border-radius: 5px;\n",
       "            padding: 5px;\n",
       "        }\n",
       "        .widget-label {\n",
       "            font-size: 18px;\n",
       "            font-weight: bold;\n",
       "        }\n",
       "        .custom-container {\n",
       "            display: flex;\n",
       "            flex-direction: column;\n",
       "            align-items: flex-start;\n",
       "        }\n",
       "        .widget-dropdown option[value^=\"​\"] {\n",
       "            font-family: sans-serif;\n",
       "            font-weight: bold;\n",
       "            font-size: 18px;\n",
       "            padding: 510px;\n",
       "        }\n",
       "        .widget-dropdown option[value*=\"Selected Organisms\"],\n",
       "        .widget-dropdown option[value*=\"All Organisms\"] {\n",
       "            text-align: center;\n",
       "            font-family: Arial, sans-serif;\n",
       "            font-weight: bold;\n",
       "            font-size: 20px;\n",
       "            color: #6900A1;\n",
       "            background-color: #00D8A1;\n",
       "        }\n",
       "    </style>\n",
       "    "
      ],
      "text/plain": [
       "<IPython.core.display.HTML object>"
      ]
     },
     "metadata": {},
     "output_type": "display_data"
    }
   ],
   "source": [
    "# Sample: MALWMRLLPLLALLALWGPDPAAAFVNQHLCGSHLVEALYLVCGERGFFYTPKTRREAEDLQVGQVELGG, Homo sapiens\n",
    "user = UserContainer()\n",
    "display_protein_input(user)\n",
    "display_organism_dropdown(user)"
   ]
  },
  {
   "cell_type": "code",
   "execution_count": 4,
   "metadata": {},
   "outputs": [
    {
     "name": "stdout",
     "output_type": "stream",
     "text": [
      "-----------------------------\n",
      "|          Organism         |\n",
      "-----------------------------\n",
      "Homo sapiens\n",
      "\n",
      "-----------------------------\n",
      "|       Input Protein       |\n",
      "-----------------------------\n",
      "MALWMRLLPLLALLALWGPDPAAAFVNQHLCGSHLVEALYLVCGERGFFYTPKTRREAEDLQVGQVELGG\n",
      "\n",
      "-----------------------------\n",
      "|      Processed Input      |\n",
      "-----------------------------\n",
      "M_UNK A_UNK L_UNK W_UNK M_UNK R_UNK L_UNK L_UNK P_UNK L_UNK L_UNK A_UNK L_UNK L_UNK A_UNK L_UNK W_UNK G_UNK P_UNK D_UNK P_UNK A_UNK A_UNK A_UNK F_UNK V_UNK N_UNK Q_UNK H_UNK L_UNK C_UNK G_UNK S_UNK H_UNK L_UNK V_UNK E_UNK A_UNK L_UNK Y_UNK L_UNK V_UNK C_UNK G_UNK E_UNK R_UNK G_UNK F_UNK F_UNK Y_UNK T_UNK P_UNK K_UNK T_UNK R_UNK R_UNK E_UNK A_UNK E_UNK D_UNK L_UNK Q_UNK V_UNK G_UNK Q_UNK V_UNK E_UNK L_UNK G_UNK G_UNK __UNK\n",
      "\n",
      "-----------------------------\n",
      "|       Predicted DNA       |\n",
      "-----------------------------\n",
      "ATGGCCCTGTGGATGAGGCTGCTGCCCCTGCTGGCCCTGCTGGCCCTGTGGGGGCCTGACCCAGCTGCCGCCTTTGTGAACCAGCACCTGTGTGGCAGCCACCTGGTGGAGGCCCTGTACCTGGTGTGTGGGGAGAGAGGCTTCTTCTACACACCCAAGACCAGAAGAGAGGCCGAGGACCTGCAGGTGGGCCAGGTGGAGCTGGGAGGCTGA\n"
     ]
    }
   ],
   "source": [
    "output = predict_dna_sequence(\n",
    "    protein=user.protein,\n",
    "    organism=user.organism,\n",
    "    device=DEVICE,\n",
    "    tokenizer_object=tokenizer,\n",
    "    model_object=model,\n",
    "    attention_type=\"original_full\",\n",
    ")\n",
    "\n",
    "print(format_model_output(output))"
   ]
  },
  {
   "cell_type": "markdown",
   "metadata": {},
   "source": [
    "**Optimizing Multiple Sequences**\n",
    "-------------------------------------\n",
    "1. Create a CSV file that has columns 'protein_sequence' and 'organism'.\n",
    "   You can have other columns in any order.\n",
    "\n",
    "2. Replace the _dataset_path_ below with the actual path to your CSV file.\n",
    "\n",
    "3. Run the next code cells to optimize and save the predicted DNA sequences."
   ]
  },
  {
   "cell_type": "code",
   "execution_count": 5,
   "metadata": {},
   "outputs": [
    {
     "data": {
      "text/html": [
       "<div>\n",
       "<style scoped>\n",
       "    .dataframe tbody tr th:only-of-type {\n",
       "        vertical-align: middle;\n",
       "    }\n",
       "\n",
       "    .dataframe tbody tr th {\n",
       "        vertical-align: top;\n",
       "    }\n",
       "\n",
       "    .dataframe thead th {\n",
       "        text-align: right;\n",
       "    }\n",
       "</style>\n",
       "<table border=\"1\" class=\"dataframe\">\n",
       "  <thead>\n",
       "    <tr style=\"text-align: right;\">\n",
       "      <th></th>\n",
       "      <th>protein_sequence</th>\n",
       "      <th>organism</th>\n",
       "      <th>predicted_dna</th>\n",
       "    </tr>\n",
       "  </thead>\n",
       "  <tbody>\n",
       "    <tr>\n",
       "      <th>0</th>\n",
       "      <td>MSEKYIVTWDMLQIHARKLASRLMPSEQWKGIIAVSRGGLVPGALL...</td>\n",
       "      <td>Escherichia coli general</td>\n",
       "      <td>None</td>\n",
       "    </tr>\n",
       "    <tr>\n",
       "      <th>1</th>\n",
       "      <td>MKNIIRTPETHPLTWRLRDDKQPVWLDEYRSKNGYEGARKALTGLS...</td>\n",
       "      <td>Escherichia coli general</td>\n",
       "      <td>None</td>\n",
       "    </tr>\n",
       "    <tr>\n",
       "      <th>2</th>\n",
       "      <td>MDALQIAEDTLQTLVPHCPVPSGPRRIFLDANVKESYCPLVPHTMY...</td>\n",
       "      <td>Homo sapiens</td>\n",
       "      <td>None</td>\n",
       "    </tr>\n",
       "    <tr>\n",
       "      <th>3</th>\n",
       "      <td>MAFANFRRILRLSTFEKRKSREYEHVRRDLDPNEVWEIVGELGDGA...</td>\n",
       "      <td>Homo sapiens</td>\n",
       "      <td>None</td>\n",
       "    </tr>\n",
       "    <tr>\n",
       "      <th>4</th>\n",
       "      <td>MTEKDAGGFNMSTFMNRKFQEPIQQIKTFSWMGFSWTCRKRRKHYQ...</td>\n",
       "      <td>Arabidopsis thaliana</td>\n",
       "      <td>None</td>\n",
       "    </tr>\n",
       "  </tbody>\n",
       "</table>\n",
       "</div>"
      ],
      "text/plain": [
       "                                    protein_sequence  \\\n",
       "0  MSEKYIVTWDMLQIHARKLASRLMPSEQWKGIIAVSRGGLVPGALL...   \n",
       "1  MKNIIRTPETHPLTWRLRDDKQPVWLDEYRSKNGYEGARKALTGLS...   \n",
       "2  MDALQIAEDTLQTLVPHCPVPSGPRRIFLDANVKESYCPLVPHTMY...   \n",
       "3  MAFANFRRILRLSTFEKRKSREYEHVRRDLDPNEVWEIVGELGDGA...   \n",
       "4  MTEKDAGGFNMSTFMNRKFQEPIQQIKTFSWMGFSWTCRKRRKHYQ...   \n",
       "\n",
       "                   organism predicted_dna  \n",
       "0  Escherichia coli general          None  \n",
       "1  Escherichia coli general          None  \n",
       "2              Homo sapiens          None  \n",
       "3              Homo sapiens          None  \n",
       "4      Arabidopsis thaliana          None  "
      ]
     },
     "execution_count": 5,
     "metadata": {},
     "output_type": "execute_result"
    }
   ],
   "source": [
    "# Update with the actual path to your dataset\n",
    "dataset_path = \"demo/sample_dataset.csv\"\n",
    "output_path = \"demo/sample_predictions.csv\"\n",
    "\n",
    "dataset = pd.read_csv(dataset_path, index_col=0)\n",
    "dataset[\"predicted_dna\"] = None\n",
    "dataset.head()"
   ]
  },
  {
   "cell_type": "code",
   "execution_count": 6,
   "metadata": {},
   "outputs": [
    {
     "name": "stderr",
     "output_type": "stream",
     "text": [
      "CodonTransformer Predicting: 100%|██████████| 5/5 [00:00<00:00, 17.00 Sequences/s]\n"
     ]
    },
    {
     "data": {
      "text/html": [
       "<div>\n",
       "<style scoped>\n",
       "    .dataframe tbody tr th:only-of-type {\n",
       "        vertical-align: middle;\n",
       "    }\n",
       "\n",
       "    .dataframe tbody tr th {\n",
       "        vertical-align: top;\n",
       "    }\n",
       "\n",
       "    .dataframe thead th {\n",
       "        text-align: right;\n",
       "    }\n",
       "</style>\n",
       "<table border=\"1\" class=\"dataframe\">\n",
       "  <thead>\n",
       "    <tr style=\"text-align: right;\">\n",
       "      <th></th>\n",
       "      <th>protein_sequence</th>\n",
       "      <th>organism</th>\n",
       "      <th>predicted_dna</th>\n",
       "    </tr>\n",
       "  </thead>\n",
       "  <tbody>\n",
       "    <tr>\n",
       "      <th>0</th>\n",
       "      <td>MSEKYIVTWDMLQIHARKLASRLMPSEQWKGIIAVSRGGLVPGALL...</td>\n",
       "      <td>Escherichia coli general</td>\n",
       "      <td>DNASequencePrediction(organism='Escherichia co...</td>\n",
       "    </tr>\n",
       "    <tr>\n",
       "      <th>1</th>\n",
       "      <td>MKNIIRTPETHPLTWRLRDDKQPVWLDEYRSKNGYEGARKALTGLS...</td>\n",
       "      <td>Escherichia coli general</td>\n",
       "      <td>DNASequencePrediction(organism='Escherichia co...</td>\n",
       "    </tr>\n",
       "    <tr>\n",
       "      <th>2</th>\n",
       "      <td>MDALQIAEDTLQTLVPHCPVPSGPRRIFLDANVKESYCPLVPHTMY...</td>\n",
       "      <td>Homo sapiens</td>\n",
       "      <td>DNASequencePrediction(organism='Homo sapiens',...</td>\n",
       "    </tr>\n",
       "    <tr>\n",
       "      <th>3</th>\n",
       "      <td>MAFANFRRILRLSTFEKRKSREYEHVRRDLDPNEVWEIVGELGDGA...</td>\n",
       "      <td>Homo sapiens</td>\n",
       "      <td>DNASequencePrediction(organism='Homo sapiens',...</td>\n",
       "    </tr>\n",
       "    <tr>\n",
       "      <th>4</th>\n",
       "      <td>MTEKDAGGFNMSTFMNRKFQEPIQQIKTFSWMGFSWTCRKRRKHYQ...</td>\n",
       "      <td>Arabidopsis thaliana</td>\n",
       "      <td>DNASequencePrediction(organism='Arabidopsis th...</td>\n",
       "    </tr>\n",
       "  </tbody>\n",
       "</table>\n",
       "</div>"
      ],
      "text/plain": [
       "                                    protein_sequence  \\\n",
       "0  MSEKYIVTWDMLQIHARKLASRLMPSEQWKGIIAVSRGGLVPGALL...   \n",
       "1  MKNIIRTPETHPLTWRLRDDKQPVWLDEYRSKNGYEGARKALTGLS...   \n",
       "2  MDALQIAEDTLQTLVPHCPVPSGPRRIFLDANVKESYCPLVPHTMY...   \n",
       "3  MAFANFRRILRLSTFEKRKSREYEHVRRDLDPNEVWEIVGELGDGA...   \n",
       "4  MTEKDAGGFNMSTFMNRKFQEPIQQIKTFSWMGFSWTCRKRRKHYQ...   \n",
       "\n",
       "                   organism                                      predicted_dna  \n",
       "0  Escherichia coli general  DNASequencePrediction(organism='Escherichia co...  \n",
       "1  Escherichia coli general  DNASequencePrediction(organism='Escherichia co...  \n",
       "2              Homo sapiens  DNASequencePrediction(organism='Homo sapiens',...  \n",
       "3              Homo sapiens  DNASequencePrediction(organism='Homo sapiens',...  \n",
       "4      Arabidopsis thaliana  DNASequencePrediction(organism='Arabidopsis th...  "
      ]
     },
     "execution_count": 6,
     "metadata": {},
     "output_type": "execute_result"
    }
   ],
   "source": [
    "for index, data in tqdm(\n",
    "    dataset.iterrows(),\n",
    "    desc=f\"CodonTransformer Predicting\",\n",
    "    unit=\" Sequences\",\n",
    "    total=dataset.shape[0],\n",
    "):\n",
    "\n",
    "    predicted_dna = predict_dna_sequence(\n",
    "        protein=data[\"protein_sequence\"],\n",
    "        organism=data[\"organism\"],\n",
    "        device=DEVICE,\n",
    "        tokenizer_object=tokenizer,\n",
    "        model_object=model,\n",
    "    )\n",
    "    dataset.loc[index, \"predicted_dna\"] = predicted_dna\n",
    "\n",
    "dataset.to_csv(output_path)\n",
    "dataset.head()"
   ]
  }
 ],
 "metadata": {
  "kernelspec": {
   "display_name": "light",
   "language": "python",
   "name": "python3"
  },
  "language_info": {
   "codemirror_mode": {
    "name": "ipython",
    "version": 3
   },
   "file_extension": ".py",
   "mimetype": "text/x-python",
   "name": "python",
   "nbconvert_exporter": "python",
   "pygments_lexer": "ipython3",
   "version": "3.12.2"
  }
 },
 "nbformat": 4,
 "nbformat_minor": 2
}
